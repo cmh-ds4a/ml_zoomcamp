{
 "cells": [
  {
   "cell_type": "markdown",
   "id": "22cae251",
   "metadata": {},
   "source": [
    "# Homework Session 8 - Carlotta Hicks"
   ]
  },
  {
   "cell_type": "code",
   "execution_count": 1,
   "id": "fd33ec05",
   "metadata": {},
   "outputs": [],
   "source": [
    "import zipfile as zf\n",
    "import shutil\n",
    "\n",
    "import numpy as np\n",
    "\n",
    "import tensorflow as tf\n",
    "from tensorflow import keras\n",
    "\n",
    "from tensorflow.keras.preprocessing.image import load_img\n",
    "from tensorflow.keras.preprocessing.image import ImageDataGenerator\n",
    "from tensorflow.keras.applications.xception import Xception\n",
    "from tensorflow.keras.applications.xception import preprocess_input\n",
    "from tensorflow.keras.applications.xception import decode_predictions\n"
   ]
  },
  {
   "cell_type": "code",
   "execution_count": 2,
   "id": "c66eb457",
   "metadata": {},
   "outputs": [],
   "source": [
    "#def move_images(directory, start_range, end_range):\n",
    "#    with zf.ZipFile(\"homework/train.zip\", 'r') as zip:\n",
    "#        for info in zip.infolist()[start_range:end_range]:\n",
    "#            name = info.filename.split('/')\n",
    "#            dest_file = \"homework/\" + directory + \"/\"+ name[1]\n",
    "#            with zip.open(info.filename) as src, open(dest_file, 'wb') as dest:\n",
    "#                shutil.copyfileobj(src, dest) "
   ]
  },
  {
   "cell_type": "code",
   "execution_count": 3,
   "id": "3141ffd2",
   "metadata": {},
   "outputs": [],
   "source": [
    "# move_images(\"train/cats\", 1, 10001)"
   ]
  },
  {
   "cell_type": "code",
   "execution_count": 4,
   "id": "6dc2d213",
   "metadata": {},
   "outputs": [],
   "source": [
    "# move_images(\"train/dogs\", 1, 10001)"
   ]
  },
  {
   "cell_type": "code",
   "execution_count": 5,
   "id": "26786fad",
   "metadata": {},
   "outputs": [],
   "source": [
    "# move_images(\"validation/cats\", 10001, 12501)"
   ]
  },
  {
   "cell_type": "code",
   "execution_count": 6,
   "id": "20814547",
   "metadata": {},
   "outputs": [],
   "source": [
    "# move_images(\"validation/dogs\", 10001, 12501)"
   ]
  },
  {
   "cell_type": "markdown",
   "id": "b7dd8163",
   "metadata": {},
   "source": [
    "## Create Convolutional Neural Network Model"
   ]
  },
  {
   "cell_type": "code",
   "execution_count": 7,
   "id": "5b827f49",
   "metadata": {},
   "outputs": [],
   "source": [
    "def make_model():\n",
    "    model = keras.Sequential(\n",
    "        [\n",
    "            keras.layers.Conv2D(32, (3,3), activation='relu', input_shape=(150, 150, 3)),\n",
    "            keras.layers.MaxPooling2D(2,2),\n",
    "            keras.layers.Flatten(),\n",
    "            keras.layers.Dense(64, activation='relu'),\n",
    "            keras.layers.Dense(1, activation='sigmoid')\n",
    "        ]\n",
    "    )\n",
    "    \n",
    "    optimizer = keras.optimizers.SGD(lr=0.002, momentum=0.8)\n",
    "    loss = keras.losses.BinaryCrossentropy(from_logits=False)\n",
    "    \n",
    "    model.compile(\n",
    "        optimizer=optimizer,\n",
    "        loss=loss,\n",
    "        metrics=['accuracy']\n",
    "    )\n",
    "    \n",
    "    return model"
   ]
  },
  {
   "cell_type": "code",
   "execution_count": 8,
   "id": "e1778959",
   "metadata": {},
   "outputs": [
    {
     "name": "stdout",
     "output_type": "stream",
     "text": [
      "Model: \"sequential\"\n",
      "_________________________________________________________________\n",
      " Layer (type)                Output Shape              Param #   \n",
      "=================================================================\n",
      " conv2d (Conv2D)             (None, 148, 148, 32)      896       \n",
      "                                                                 \n",
      " max_pooling2d (MaxPooling2D  (None, 74, 74, 32)       0         \n",
      " )                                                               \n",
      "                                                                 \n",
      " flatten (Flatten)           (None, 175232)            0         \n",
      "                                                                 \n",
      " dense (Dense)               (None, 64)                11214912  \n",
      "                                                                 \n",
      " dense_1 (Dense)             (None, 1)                 65        \n",
      "                                                                 \n",
      "=================================================================\n",
      "Total params: 11,215,873\n",
      "Trainable params: 11,215,873\n",
      "Non-trainable params: 0\n",
      "_________________________________________________________________\n"
     ]
    },
    {
     "name": "stderr",
     "output_type": "stream",
     "text": [
      "C:\\Users\\sasco\\anaconda3\\lib\\site-packages\\keras\\optimizer_v2\\gradient_descent.py:102: UserWarning: The `lr` argument is deprecated, use `learning_rate` instead.\n",
      "  super(SGD, self).__init__(name, **kwargs)\n"
     ]
    }
   ],
   "source": [
    "model = make_model()\n",
    "model.summary()"
   ]
  },
  {
   "cell_type": "code",
   "execution_count": 9,
   "id": "f8ba3258",
   "metadata": {},
   "outputs": [
    {
     "name": "stdout",
     "output_type": "stream",
     "text": [
      "Found 20000 images belonging to 3 classes.\n",
      "Found 5000 images belonging to 3 classes.\n"
     ]
    }
   ],
   "source": [
    "train_gen = ImageDataGenerator(preprocessing_function=None, rescale=1./255)\n",
    "train_ds = train_gen.flow_from_directory(\n",
    "    './homework/train',\n",
    "    target_size=(150, 150),\n",
    "    class_mode='binary', \n",
    "    batch_size=20, \n",
    "    shuffle=True\n",
    ")\n",
    "\n",
    "val_gen = ImageDataGenerator(preprocessing_function=None)\n",
    "val_ds = val_gen.flow_from_directory(\n",
    "    './homework/validation',\n",
    "    target_size=(150, 150),\n",
    "    class_mode='binary',\n",
    "    batch_size=20,\n",
    "    shuffle=True\n",
    ")"
   ]
  },
  {
   "cell_type": "code",
   "execution_count": 10,
   "id": "a159f830",
   "metadata": {},
   "outputs": [
    {
     "name": "stdout",
     "output_type": "stream",
     "text": [
      "Epoch 1/10\n",
      "100/100 [==============================] - 86s 836ms/step - loss: nan - accuracy: 0.0835 - val_loss: nan - val_accuracy: 0.0000e+00\n",
      "Epoch 2/10\n",
      "100/100 [==============================] - 83s 834ms/step - loss: nan - accuracy: 0.0000e+00 - val_loss: nan - val_accuracy: 0.0000e+00\n",
      "Epoch 3/10\n",
      "100/100 [==============================] - 82s 823ms/step - loss: nan - accuracy: 0.0000e+00 - val_loss: nan - val_accuracy: 0.0000e+00\n",
      "Epoch 4/10\n",
      "100/100 [==============================] - 87s 871ms/step - loss: nan - accuracy: 0.0000e+00 - val_loss: nan - val_accuracy: 0.0000e+00\n",
      "Epoch 5/10\n",
      "100/100 [==============================] - 84s 837ms/step - loss: nan - accuracy: 0.0000e+00 - val_loss: nan - val_accuracy: 0.0000e+00\n",
      "Epoch 6/10\n",
      "100/100 [==============================] - 84s 842ms/step - loss: nan - accuracy: 0.0000e+00 - val_loss: nan - val_accuracy: 0.0000e+00\n",
      "Epoch 7/10\n",
      "100/100 [==============================] - 93s 934ms/step - loss: nan - accuracy: 0.0000e+00 - val_loss: nan - val_accuracy: 0.0000e+00\n",
      "Epoch 8/10\n",
      "100/100 [==============================] - 97s 966ms/step - loss: nan - accuracy: 0.0000e+00 - val_loss: nan - val_accuracy: 0.0000e+00\n",
      "Epoch 9/10\n",
      "100/100 [==============================] - 82s 822ms/step - loss: nan - accuracy: 0.0000e+00 - val_loss: nan - val_accuracy: 0.0000e+00\n",
      "Epoch 10/10\n",
      "100/100 [==============================] - 86s 860ms/step - loss: nan - accuracy: 0.0000e+00 - val_loss: nan - val_accuracy: 0.0000e+00\n"
     ]
    }
   ],
   "source": [
    "history = model.fit(train_ds,\n",
    "                   steps_per_epoch=100,\n",
    "                   epochs=10,\n",
    "                   validation_data=val_ds,\n",
    "                   validation_steps=50\n",
    "                   )"
   ]
  },
  {
   "cell_type": "code",
   "execution_count": null,
   "id": "2c23db31",
   "metadata": {
    "scrolled": true
   },
   "outputs": [
    {
     "name": "stdout",
     "output_type": "stream",
     "text": [
      "Found 20000 images belonging to 3 classes.\n",
      "Epoch 1/20\n",
      "100/100 [==============================] - 102s 1s/step - loss: nan - accuracy: 0.0000e+00 - val_loss: nan - val_accuracy: 0.0000e+00\n",
      "Epoch 2/20\n",
      "100/100 [==============================] - 103s 1s/step - loss: nan - accuracy: 0.0000e+00 - val_loss: nan - val_accuracy: 0.0000e+00\n",
      "Epoch 3/20\n",
      "100/100 [==============================] - 97s 972ms/step - loss: nan - accuracy: 0.0000e+00 - val_loss: nan - val_accuracy: 0.0000e+00\n",
      "Epoch 4/20\n",
      "100/100 [==============================] - 98s 982ms/step - loss: nan - accuracy: 0.0000e+00 - val_loss: nan - val_accuracy: 0.0000e+00\n",
      "Epoch 5/20\n",
      "100/100 [==============================] - 110s 1s/step - loss: nan - accuracy: 0.0000e+00 - val_loss: nan - val_accuracy: 0.0000e+00\n",
      "Epoch 6/20\n",
      "100/100 [==============================] - 168s 2s/step - loss: nan - accuracy: 0.0000e+00 - val_loss: nan - val_accuracy: 0.0000e+00\n",
      "Epoch 7/20\n",
      "100/100 [==============================] - 144s 1s/step - loss: nan - accuracy: 0.0000e+00 - val_loss: nan - val_accuracy: 0.0000e+00\n",
      "Epoch 8/20\n",
      "100/100 [==============================] - 132s 1s/step - loss: nan - accuracy: 0.0000e+00 - val_loss: nan - val_accuracy: 0.0000e+00\n",
      "Epoch 9/20\n",
      " 98/100 [============================>.] - ETA: 1s - loss: nan - accuracy: 0.0000e+00"
     ]
    }
   ],
   "source": [
    "train_gen = ImageDataGenerator(preprocessing_function=None,\n",
    "                               rescale=1./255,\n",
    "                               rotation_range=40,\n",
    "                               width_shift_range=0.2,\n",
    "                               height_shift_range=0.2,\n",
    "                               shear_range=0.2,\n",
    "                               zoom_range=0.2,\n",
    "                               horizontal_flip=True,\n",
    "                               fill_mode='nearest'\n",
    "                               )\n",
    "train_ds = train_gen.flow_from_directory(\n",
    "    './homework/train',\n",
    "    target_size=(150, 150),\n",
    "    class_mode='binary', \n",
    "    batch_size=20, \n",
    "    shuffle=True\n",
    ")\n",
    "\n",
    "history = model.fit(train_ds,\n",
    "                   steps_per_epoch=100,\n",
    "                   epochs=20,\n",
    "                   validation_data=val_ds,\n",
    "                   validation_steps=50\n",
    "                   )"
   ]
  },
  {
   "cell_type": "code",
   "execution_count": null,
   "id": "bb1303a7",
   "metadata": {},
   "outputs": [],
   "source": []
  }
 ],
 "metadata": {
  "kernelspec": {
   "display_name": "Python 3",
   "language": "python",
   "name": "python3"
  },
  "language_info": {
   "codemirror_mode": {
    "name": "ipython",
    "version": 3
   },
   "file_extension": ".py",
   "mimetype": "text/x-python",
   "name": "python",
   "nbconvert_exporter": "python",
   "pygments_lexer": "ipython3",
   "version": "3.8.8"
  }
 },
 "nbformat": 4,
 "nbformat_minor": 5
}
